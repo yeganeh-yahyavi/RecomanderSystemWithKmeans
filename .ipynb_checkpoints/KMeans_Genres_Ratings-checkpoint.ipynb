{
 "cells": [
  {
   "cell_type": "code",
   "execution_count": 2,
   "metadata": {},
   "outputs": [],
   "source": [
    "import os \n",
    "import time\n",
    "import findspark\n",
    "from pyspark.sql import SparkSession\n",
    "import pandas as pd\n",
    "import numpy as np\n",
    "from sklearn.cluster import KMeans\n",
    "import matplotlib.pyplot as plt\n",
    "import matplotlib.pyplot as plt\n",
    "from mpl_toolkits.axes_grid1 import make_axes_locatable\n",
    "from sklearn.metrics import mean_squared_error\n",
    "import itertools\n",
    "from sklearn.metrics import silhouette_samples, silhouette_score\n",
    "import scipy\n",
    "from scipy.sparse import csr_matrix\n",
    "from pyspark.sql import SparkSession\n",
    "from pyspark.ml.feature import VectorAssembler\n",
    "from pyspark.ml.clustering import KMeans\n",
    "from pyspark.ml.evaluation import ClusteringEvaluator\n",
    "from pyspark.sql.types import StructType, StructField, IntegerType, StringType, DoubleType, LongType\n",
    "from pyspark.sql.functions import col, avg, round, monotonically_increasing_id ,explode\n",
    "from pyspark.sql.functions import lit\n",
    "from pyspark.sql.functions import col"
   ]
  },
  {
   "cell_type": "code",
   "execution_count": 3,
   "metadata": {},
   "outputs": [],
   "source": [
    "# Function to calculate the runtime\n",
    "def calculate_runtime(start_time, end_time):\n",
    "    runtime = end_time - start_time\n",
    "    return runtime\n",
    "\n",
    "# List to store individual runtimes\n",
    "runtimes = []\n"
   ]
  },
  {
   "cell_type": "code",
   "execution_count": 4,
   "metadata": {
    "colab": {
     "base_uri": "https://localhost:8080/"
    },
    "id": "Re8ejrRMldHx",
    "outputId": "e86a5371-7c14-4857-8ce0-0ee717984806"
   },
   "outputs": [
    {
     "name": "stderr",
     "output_type": "stream",
     "text": [
      "23/12/31 06:56:41 WARN SparkSession: Using an existing Spark session; only runtime SQL configurations will take effect.\n"
     ]
    }
   ],
   "source": [
    "start_time_block1 = time.time()\n",
    "findspark.init('/opt/spark')\n",
    "spark = SparkSession.builder.appName('SparkByExamples.com').getOrCreate()\n",
    "os.environ['PYSPARK_SUBMIT_ARGS'] = 'pyspark-shell'\n",
    "end_time_block1 = time.time()\n",
    "runtime_block1 = calculate_runtime(start_time_block1, end_time_block1)\n",
    "runtimes.append(runtime_block1)\n"
   ]
  },
  {
   "cell_type": "code",
   "execution_count": 4,
   "metadata": {
    "id": "z3HWh8impRxm"
   },
   "outputs": [
    {
     "name": "stdout",
     "output_type": "stream",
     "text": [
      "+--------+--------------------+--------------------+\n",
      "|movie_id|          movie_name|               genre|\n",
      "+--------+--------------------+--------------------+\n",
      "|       2|      Jumanji (1995)|Adventure|Childre...|\n",
      "|       3|Grumpier Old Men ...|      Comedy|Romance|\n",
      "|       4|Waiting to Exhale...|        Comedy|Drama|\n",
      "|       5|Father of the Bri...|              Comedy|\n",
      "|       6|         Heat (1995)|Action|Crime|Thri...|\n",
      "+--------+--------------------+--------------------+\n",
      "only showing top 5 rows\n",
      "\n"
     ]
    }
   ],
   "source": [
    "start_time_block2 = time.time()\n",
    "movies_df = spark.read \\\n",
    "    .format(\"csv\") \\\n",
    "    .options(header=\"true\", inferSchema=\"true\", delimiter=\"::\", encoding=\"ISO-8859-1\") \\\n",
    "    .load(\"./ml-1m/ml-1m/movies.dat\") \\\n",
    "    .toDF(\"movie_id\", \"movie_name\", \"genre\")\n",
    "movies_df.show(5)\n",
    "end_time_block2 = time.time()\n",
    "runtime_block2 = calculate_runtime(start_time_block2, end_time_block2)\n",
    "runtimes.append(runtime_block2)"
   ]
  },
  {
   "cell_type": "code",
   "execution_count": 5,
   "metadata": {
    "id": "MDNjnytYpXwO"
   },
   "outputs": [
    {
     "name": "stdout",
     "output_type": "stream",
     "text": [
      "+-------+------+---+--------+\n",
      "|user_id|gender|age|zip_code|\n",
      "+-------+------+---+--------+\n",
      "|      1|     F|  1|      10|\n",
      "|      2|     M| 56|      16|\n",
      "|      3|     M| 25|      15|\n",
      "|      4|     M| 45|       7|\n",
      "|      5|     M| 25|      20|\n",
      "+-------+------+---+--------+\n",
      "only showing top 5 rows\n",
      "\n"
     ]
    }
   ],
   "source": [
    "start_time_block3 = time.time()\n",
    "# Define the schema for the DataFrame\n",
    "schema = StructType([\n",
    "    StructField(\"user_id\", IntegerType(), True),\n",
    "    StructField(\"gender\", StringType(), True),\n",
    "    StructField(\"age\", IntegerType(), True),\n",
    "    StructField(\"zip_code\", StringType(), True)\n",
    "])\n",
    "\n",
    "# Read the \"users.dat\" file\n",
    "users_df = spark.read \\\n",
    "    .option(\"header\", \"false\") \\\n",
    "    .option(\"delimiter\", \"::\") \\\n",
    "    .schema(schema) \\\n",
    "    .csv(\"./ml-1m/ml-1m/users.dat\")\n",
    "\n",
    "users_df.show(5)\n",
    "end_time_block3 = time.time()\n",
    "runtime_block3 = calculate_runtime(start_time_block3, end_time_block3)\n",
    "runtimes.append(runtime_block3)\n"
   ]
  },
  {
   "cell_type": "code",
   "execution_count": 6,
   "metadata": {
    "id": "pOIyJDPlpZZF"
   },
   "outputs": [
    {
     "name": "stdout",
     "output_type": "stream",
     "text": [
      "+-------+--------+------+---------+\n",
      "|user_id|movie_id|rating|     time|\n",
      "+-------+--------+------+---------+\n",
      "|      1|    1193|   5.0|978300760|\n",
      "|      1|     661|   3.0|978302109|\n",
      "|      1|     914|   3.0|978301968|\n",
      "|      1|    3408|   4.0|978300275|\n",
      "|      1|    2355|   5.0|978824291|\n",
      "+-------+--------+------+---------+\n",
      "only showing top 5 rows\n",
      "\n"
     ]
    }
   ],
   "source": [
    "start_time_block4 = time.time()\n",
    "\n",
    "# Define the schema for the DataFrame\n",
    "schema = StructType([\n",
    "    StructField(\"user_id\", IntegerType(), True),\n",
    "    StructField(\"movie_id\", IntegerType(), True),\n",
    "    StructField(\"rating\", DoubleType(), True),\n",
    "    StructField(\"time\", LongType(), True)\n",
    "])\n",
    "\n",
    "# Read the \"ratings.dat\" file\n",
    "ratings_df = spark.read \\\n",
    "    .option(\"header\", \"false\") \\\n",
    "    .option(\"delimiter\", \"::\") \\\n",
    "    .schema(schema) \\\n",
    "    .csv(\"./ml-1m/ml-1m/ratings.dat\")\n",
    "\n",
    "# Display the head of the DataFrame\n",
    "ratings_df.show(5)\n",
    "end_time_block4 = time.time()\n",
    "runtime_block4 = calculate_runtime(start_time_block4, end_time_block4)\n",
    "runtimes.append(runtime_block4)\n"
   ]
  },
  {
   "cell_type": "code",
   "execution_count": 7,
   "metadata": {
    "id": "f37uv7FApu23"
   },
   "outputs": [
    {
     "name": "stdout",
     "output_type": "stream",
     "text": [
      "+-------+--------+------+---------+------+---+--------+\n",
      "|user_id|movie_id|rating|     time|gender|age|zip_code|\n",
      "+-------+--------+------+---------+------+---+--------+\n",
      "|      1|    1193|   5.0|978300760|     F|  1|      10|\n",
      "|      1|     661|   3.0|978302109|     F|  1|      10|\n",
      "|      1|     914|   3.0|978301968|     F|  1|      10|\n",
      "|      1|    3408|   4.0|978300275|     F|  1|      10|\n",
      "|      1|    2355|   5.0|978824291|     F|  1|      10|\n",
      "+-------+--------+------+---------+------+---+--------+\n",
      "only showing top 5 rows\n",
      "\n"
     ]
    }
   ],
   "source": [
    "start_time_block5 = time.time()\n",
    "user_ratings = ratings_df.join(users_df, on=\"user_id\", how=\"inner\")\n",
    "user_ratings.show(5)\n",
    "end_time_block5 = time.time()\n",
    "runtime_block5 = calculate_runtime(start_time_block5, end_time_block5)\n",
    "runtimes.append(runtime_block5)\n"
   ]
  },
  {
   "cell_type": "code",
   "execution_count": 8,
   "metadata": {
    "id": "haaDq2yspwl2"
   },
   "outputs": [
    {
     "name": "stdout",
     "output_type": "stream",
     "text": [
      "+--------+-------+------+---------+------+---+--------+--------------------+--------------------+\n",
      "|movie_id|user_id|rating|     time|gender|age|zip_code|          movie_name|               genre|\n",
      "+--------+-------+------+---------+------+---+--------+--------------------+--------------------+\n",
      "|    1193|      1|   5.0|978300760|     F|  1|      10|One Flew Over the...|               Drama|\n",
      "|     661|      1|   3.0|978302109|     F|  1|      10|James and the Gia...|Animation|Childre...|\n",
      "|     914|      1|   3.0|978301968|     F|  1|      10| My Fair Lady (1964)|     Musical|Romance|\n",
      "|    3408|      1|   4.0|978300275|     F|  1|      10|Erin Brockovich (...|               Drama|\n",
      "|    2355|      1|   5.0|978824291|     F|  1|      10|Bug's Life, A (1998)|Animation|Childre...|\n",
      "+--------+-------+------+---------+------+---+--------+--------------------+--------------------+\n",
      "only showing top 5 rows\n",
      "\n"
     ]
    }
   ],
   "source": [
    "start_time_block6 = time.time()\n",
    "\n",
    "data = user_ratings.join(movies_df, on=\"movie_id\", how=\"inner\")\n",
    "data.show(5)\n",
    "end_time_block6 = time.time()\n",
    "runtime_block6 = calculate_runtime(start_time_block6, end_time_block6)\n",
    "runtimes.append(runtime_block6)\n"
   ]
  },
  {
   "cell_type": "code",
   "execution_count": 9,
   "metadata": {
    "id": "W9hbEZY4pyqa"
   },
   "outputs": [
    {
     "name": "stderr",
     "output_type": "stream",
     "text": [
      "23/12/30 21:56:09 WARN TaskSetManager: Stage 13 contains a task of very large size (1959 KiB). The maximum recommended task size is 1000 KiB.\n",
      "[Stage 13:>                                                       (0 + 12) / 12]\r"
     ]
    },
    {
     "name": "stdout",
     "output_type": "stream",
     "text": [
      "['Crime', 'Romance', 'Thriller', 'Adventure', 'Drama', \"Children's\", 'War', 'Documentary', 'Fantasy', 'Mystery', 'Musical', 'Animation', 'Film-Noir', 'Horror', 'Western', 'Comedy', 'Action', 'Sci-Fi']\n",
      "18\n"
     ]
    },
    {
     "name": "stderr",
     "output_type": "stream",
     "text": [
      "\r",
      "                                                                                \r"
     ]
    }
   ],
   "source": [
    "start_time_block7 = time.time()\n",
    "# Extract the desired column\n",
    "x = data.select(\"genre\").rdd.flatMap(lambda x: x).collect()\n",
    "\n",
    "# Split the values and create a list of lists\n",
    "a = [value.split('|') for value in x]\n",
    "\n",
    "# Explode the list of lists into individual values\n",
    "b = spark.createDataFrame([(value,) for sublist in a for value in sublist], [\"genre\"])\n",
    "\n",
    "# Extract unique genres\n",
    "genres_df = b.select(\"genre\").distinct()\n",
    "\n",
    "# Collect the unique genres as a list\n",
    "genres = [row.genre for row in genres_df.collect()]\n",
    "\n",
    "print(genres)\n",
    "print(len(genres))\n",
    "end_time_block7 = time.time()\n",
    "runtime_block7 = calculate_runtime(start_time_block7, end_time_block7)\n",
    "runtimes.append(runtime_block7)"
   ]
  },
  {
   "cell_type": "code",
   "execution_count": 10,
   "metadata": {
    "id": "nQIcwV3nqBd3"
   },
   "outputs": [
    {
     "name": "stderr",
     "output_type": "stream",
     "text": [
      "[Stage 51:===============>  (5 + 1) / 6][Stage 54:>                 (0 + 1) / 1]\r"
     ]
    },
    {
     "name": "stdout",
     "output_type": "stream",
     "text": [
      "+-------+-----+-------+--------+---------+-----+----------+----+-----------+-------+-------+-------+---------+---------+------+-------+------+------+------+\n",
      "|user_id|Crime|Romance|Thriller|Adventure|Drama|Children's| War|Documentary|Fantasy|Mystery|Musical|Animation|Film-Noir|Horror|Western|Comedy|Action|Sci-Fi|\n",
      "+-------+-----+-------+--------+---------+-----+----------+----+-----------+-------+-------+-------+---------+---------+------+-------+------+------+------+\n",
      "|      1|  4.0|   3.67|    3.67|      4.0| 4.43|      4.21| 5.0|        0.0|    4.0|    0.0|   4.29|     4.06|      0.0|   0.0|    0.0|  4.08|   4.2|  4.33|\n",
      "|      2| 3.58|   3.71|    3.48|     3.74|  3.9|       0.0|3.73|        0.0|    3.0|   3.33|    0.0|      0.0|      4.0|   3.0|   4.33|  3.56|   3.5|  3.59|\n",
      "+-------+-----+-------+--------+---------+-----+----------+----+-----------+-------+-------+-------+---------+---------+------+-------+------+------+------+\n",
      "only showing top 2 rows\n",
      "\n"
     ]
    },
    {
     "name": "stderr",
     "output_type": "stream",
     "text": [
      "\r",
      "                                                                                \r"
     ]
    }
   ],
   "source": [
    "start_time_block8 = time.time()\n",
    "column_names = genres\n",
    "\n",
    "# Function to get genre ratings\n",
    "def get_genre_ratings(ratings_df, movies_df, genres, column_names):\n",
    "    genre_ratings = ratings_df.alias('r').join(movies_df.alias('m'), col('r.movie_id') == col('m.movie_id')).filter(col('m.genre').like('%' + genres[0] + '%')).groupBy('r.user_id').agg(round(avg('r.rating'), 2).alias(column_names[0]))\n",
    "\n",
    "    for i in range(1, len(genres)):\n",
    "        genre_ratings = genre_ratings.join(ratings_df.alias('r').join(movies_df.alias('m'), col('r.movie_id') == col('m.movie_id')).filter(col('m.genre').like('%' + genres[i] + '%')).groupBy('r.user_id').agg(round(avg('r.rating'), 2).alias(column_names[i])), on='user_id', how='outer')\n",
    "\n",
    "    genre_ratings = genre_ratings.na.fill(0)\n",
    "    return genre_ratings\n",
    "\n",
    "# Call the get_genre_ratings function\n",
    "genre_ratings = get_genre_ratings(ratings_df, movies_df, genres, column_names)\n",
    "genre_ratings = genre_ratings.withColumnRenamed('user_id', 'index')\n",
    "genre_ratings = genre_ratings.withColumnRenamed('index', 'user_id')\n",
    "\n",
    "# Set the index and column names\n",
    "genre_ratings = genre_ratings.withColumnRenamed('user_id', 'index')\n",
    "genre_ratings = genre_ratings.withColumnRenamed('index', 'user_id')\n",
    "genre_ratings = genre_ratings.withColumnRenamed('genre', 'columns')\n",
    "\n",
    "# Show the genre ratings\n",
    "genre_ratings.show(2)\n",
    "end_time_block8 = time.time()\n",
    "runtime_block8 = calculate_runtime(start_time_block8, end_time_block8)\n",
    "runtimes.append(runtime_block8)"
   ]
  },
  {
   "cell_type": "code",
   "execution_count": 11,
   "metadata": {
    "id": "3NCzH1DFdwGu"
   },
   "outputs": [
    {
     "name": "stderr",
     "output_type": "stream",
     "text": [
      "[Stage 410:>                                                        (0 + 6) / 6]\r"
     ]
    },
    {
     "name": "stdout",
     "output_type": "stream",
     "text": [
      "dataset dimensions:  (6040, 18) \n",
      "\n",
      "Subset example:\n"
     ]
    },
    {
     "name": "stderr",
     "output_type": "stream",
     "text": [
      "\r",
      "                                                                                \r"
     ]
    }
   ],
   "source": [
    "start_time_block9 = time.time()\n",
    "z=genre_ratings.toPandas()\n",
    "user_genre_ratings = pd.pivot_table(z, index='user_id')\n",
    "\n",
    "print('dataset dimensions: ', user_genre_ratings.shape, '\\n\\nSubset example:')\n",
    "\n",
    "user_genre_ratings_selection=user_genre_ratings.iloc[:30, :18]\n",
    "user_genre_ratings.iloc[:6, :18]\n",
    "end_time_block9 = time.time()\n",
    "runtime_block9 = calculate_runtime(start_time_block9, end_time_block9)\n",
    "runtimes.append(runtime_block9)"
   ]
  },
  {
   "cell_type": "code",
   "execution_count": 12,
   "metadata": {},
   "outputs": [
    {
     "data": {
      "text/html": [
       "<div>\n",
       "<style scoped>\n",
       "    .dataframe tbody tr th:only-of-type {\n",
       "        vertical-align: middle;\n",
       "    }\n",
       "\n",
       "    .dataframe tbody tr th {\n",
       "        vertical-align: top;\n",
       "    }\n",
       "\n",
       "    .dataframe thead th {\n",
       "        text-align: right;\n",
       "    }\n",
       "</style>\n",
       "<table border=\"1\" class=\"dataframe\">\n",
       "  <thead>\n",
       "    <tr style=\"text-align: right;\">\n",
       "      <th></th>\n",
       "      <th>Action</th>\n",
       "      <th>Adventure</th>\n",
       "      <th>Animation</th>\n",
       "      <th>Children's</th>\n",
       "      <th>Comedy</th>\n",
       "      <th>Crime</th>\n",
       "      <th>Documentary</th>\n",
       "      <th>Drama</th>\n",
       "      <th>Fantasy</th>\n",
       "      <th>Film-Noir</th>\n",
       "      <th>Horror</th>\n",
       "      <th>Musical</th>\n",
       "      <th>Mystery</th>\n",
       "      <th>Romance</th>\n",
       "      <th>Sci-Fi</th>\n",
       "      <th>Thriller</th>\n",
       "      <th>War</th>\n",
       "      <th>Western</th>\n",
       "    </tr>\n",
       "    <tr>\n",
       "      <th>user_id</th>\n",
       "      <th></th>\n",
       "      <th></th>\n",
       "      <th></th>\n",
       "      <th></th>\n",
       "      <th></th>\n",
       "      <th></th>\n",
       "      <th></th>\n",
       "      <th></th>\n",
       "      <th></th>\n",
       "      <th></th>\n",
       "      <th></th>\n",
       "      <th></th>\n",
       "      <th></th>\n",
       "      <th></th>\n",
       "      <th></th>\n",
       "      <th></th>\n",
       "      <th></th>\n",
       "      <th></th>\n",
       "    </tr>\n",
       "  </thead>\n",
       "  <tbody>\n",
       "    <tr>\n",
       "      <th>1</th>\n",
       "      <td>4.20</td>\n",
       "      <td>4.00</td>\n",
       "      <td>4.06</td>\n",
       "      <td>4.21</td>\n",
       "      <td>4.08</td>\n",
       "      <td>4.00</td>\n",
       "      <td>0.00</td>\n",
       "      <td>4.43</td>\n",
       "      <td>4.0</td>\n",
       "      <td>0.0</td>\n",
       "      <td>0.00</td>\n",
       "      <td>4.29</td>\n",
       "      <td>0.00</td>\n",
       "      <td>3.67</td>\n",
       "      <td>4.33</td>\n",
       "      <td>3.67</td>\n",
       "      <td>5.00</td>\n",
       "      <td>0.00</td>\n",
       "    </tr>\n",
       "    <tr>\n",
       "      <th>2</th>\n",
       "      <td>3.50</td>\n",
       "      <td>3.74</td>\n",
       "      <td>0.00</td>\n",
       "      <td>0.00</td>\n",
       "      <td>3.56</td>\n",
       "      <td>3.58</td>\n",
       "      <td>0.00</td>\n",
       "      <td>3.90</td>\n",
       "      <td>3.0</td>\n",
       "      <td>4.0</td>\n",
       "      <td>3.00</td>\n",
       "      <td>0.00</td>\n",
       "      <td>3.33</td>\n",
       "      <td>3.71</td>\n",
       "      <td>3.59</td>\n",
       "      <td>3.48</td>\n",
       "      <td>3.73</td>\n",
       "      <td>4.33</td>\n",
       "    </tr>\n",
       "    <tr>\n",
       "      <th>3</th>\n",
       "      <td>3.96</td>\n",
       "      <td>4.00</td>\n",
       "      <td>4.00</td>\n",
       "      <td>4.00</td>\n",
       "      <td>3.77</td>\n",
       "      <td>0.00</td>\n",
       "      <td>0.00</td>\n",
       "      <td>4.00</td>\n",
       "      <td>4.5</td>\n",
       "      <td>0.0</td>\n",
       "      <td>2.67</td>\n",
       "      <td>4.00</td>\n",
       "      <td>3.00</td>\n",
       "      <td>3.80</td>\n",
       "      <td>3.83</td>\n",
       "      <td>3.80</td>\n",
       "      <td>4.00</td>\n",
       "      <td>4.67</td>\n",
       "    </tr>\n",
       "    <tr>\n",
       "      <th>4</th>\n",
       "      <td>4.16</td>\n",
       "      <td>3.83</td>\n",
       "      <td>0.00</td>\n",
       "      <td>4.00</td>\n",
       "      <td>0.00</td>\n",
       "      <td>5.00</td>\n",
       "      <td>0.00</td>\n",
       "      <td>4.17</td>\n",
       "      <td>4.5</td>\n",
       "      <td>0.0</td>\n",
       "      <td>4.33</td>\n",
       "      <td>0.00</td>\n",
       "      <td>0.00</td>\n",
       "      <td>4.00</td>\n",
       "      <td>3.56</td>\n",
       "      <td>3.50</td>\n",
       "      <td>3.33</td>\n",
       "      <td>4.50</td>\n",
       "    </tr>\n",
       "    <tr>\n",
       "      <th>5</th>\n",
       "      <td>2.61</td>\n",
       "      <td>3.00</td>\n",
       "      <td>4.00</td>\n",
       "      <td>3.83</td>\n",
       "      <td>3.41</td>\n",
       "      <td>3.29</td>\n",
       "      <td>3.67</td>\n",
       "      <td>3.10</td>\n",
       "      <td>0.0</td>\n",
       "      <td>4.0</td>\n",
       "      <td>2.80</td>\n",
       "      <td>3.33</td>\n",
       "      <td>3.13</td>\n",
       "      <td>3.10</td>\n",
       "      <td>3.07</td>\n",
       "      <td>2.85</td>\n",
       "      <td>3.50</td>\n",
       "      <td>4.00</td>\n",
       "    </tr>\n",
       "    <tr>\n",
       "      <th>6</th>\n",
       "      <td>4.00</td>\n",
       "      <td>3.75</td>\n",
       "      <td>4.25</td>\n",
       "      <td>3.87</td>\n",
       "      <td>3.74</td>\n",
       "      <td>3.00</td>\n",
       "      <td>0.00</td>\n",
       "      <td>3.73</td>\n",
       "      <td>3.0</td>\n",
       "      <td>0.0</td>\n",
       "      <td>0.00</td>\n",
       "      <td>4.32</td>\n",
       "      <td>0.00</td>\n",
       "      <td>4.00</td>\n",
       "      <td>3.50</td>\n",
       "      <td>3.67</td>\n",
       "      <td>4.00</td>\n",
       "      <td>3.63</td>\n",
       "    </tr>\n",
       "  </tbody>\n",
       "</table>\n",
       "</div>"
      ],
      "text/plain": [
       "         Action  Adventure  Animation  Children's  Comedy  Crime  Documentary  \\\n",
       "user_id                                                                         \n",
       "1          4.20       4.00       4.06        4.21    4.08   4.00         0.00   \n",
       "2          3.50       3.74       0.00        0.00    3.56   3.58         0.00   \n",
       "3          3.96       4.00       4.00        4.00    3.77   0.00         0.00   \n",
       "4          4.16       3.83       0.00        4.00    0.00   5.00         0.00   \n",
       "5          2.61       3.00       4.00        3.83    3.41   3.29         3.67   \n",
       "6          4.00       3.75       4.25        3.87    3.74   3.00         0.00   \n",
       "\n",
       "         Drama  Fantasy  Film-Noir  Horror  Musical  Mystery  Romance  Sci-Fi  \\\n",
       "user_id                                                                         \n",
       "1         4.43      4.0        0.0    0.00     4.29     0.00     3.67    4.33   \n",
       "2         3.90      3.0        4.0    3.00     0.00     3.33     3.71    3.59   \n",
       "3         4.00      4.5        0.0    2.67     4.00     3.00     3.80    3.83   \n",
       "4         4.17      4.5        0.0    4.33     0.00     0.00     4.00    3.56   \n",
       "5         3.10      0.0        4.0    2.80     3.33     3.13     3.10    3.07   \n",
       "6         3.73      3.0        0.0    0.00     4.32     0.00     4.00    3.50   \n",
       "\n",
       "         Thriller   War  Western  \n",
       "user_id                           \n",
       "1            3.67  5.00     0.00  \n",
       "2            3.48  3.73     4.33  \n",
       "3            3.80  4.00     4.67  \n",
       "4            3.50  3.33     4.50  \n",
       "5            2.85  3.50     4.00  \n",
       "6            3.67  4.00     3.63  "
      ]
     },
     "execution_count": 12,
     "metadata": {},
     "output_type": "execute_result"
    }
   ],
   "source": [
    "user_genre_ratings.iloc[:6, :18]"
   ]
  },
  {
   "cell_type": "code",
   "execution_count": 13,
   "metadata": {
    "id": "R5DvYBzk3kxo"
   },
   "outputs": [],
   "source": [
    "start_time_block10 = time.time()\n",
    "def get_most_rated_movies(user_movie_ratings, max_number_of_movies):\n",
    "    # 1- Count\n",
    "    user_movie_ratings = user_movie_ratings.append(user_movie_ratings.count(), ignore_index=True)\n",
    "    # 2- sort\n",
    "    user_movie_ratings_sorted = user_movie_ratings.sort_values(len(user_movie_ratings)-1, axis=1, ascending=False)\n",
    "    user_movie_ratings_sorted = user_movie_ratings_sorted.drop(user_movie_ratings_sorted.tail(1).index)\n",
    "    # 3- slice\n",
    "    most_rated_movies = user_movie_ratings_sorted.iloc[:, :max_number_of_movies]\n",
    "    return most_rated_movies\n",
    "\n",
    "def get_users_who_rate_the_most(most_rated_movies, max_number_of_movies):\n",
    "    # Get most voting users\n",
    "    # 1- Count\n",
    "    most_rated_movies['counts'] = pd.Series(most_rated_movies.count(axis=1))\n",
    "    # 2- Sort\n",
    "    most_rated_movies_users = most_rated_movies.sort_values('counts', ascending=False)\n",
    "    # 3- Slice\n",
    "    most_rated_movies_users_selection = most_rated_movies_users.iloc[:max_number_of_movies, :]\n",
    "    most_rated_movies_users_selection = most_rated_movies_users_selection.drop(['counts'], axis=1)\n",
    "\n",
    "    return most_rated_movies_users_selection\n",
    "\n",
    "def sort_by_rating_density(user_movie_ratings, n_movies, n_users):\n",
    "    most_rated_movies = get_most_rated_movies(user_movie_ratings, n_movies)\n",
    "    most_rated_movies = get_users_who_rate_the_most(user_movie_ratings, n_users)\n",
    "    return most_rated_movies\n",
    "end_time_block10 = time.time()\n",
    "runtime_block10 = calculate_runtime(start_time_block10, end_time_block10)\n",
    "runtimes.append(runtime_block10)"
   ]
  },
  {
   "cell_type": "code",
   "execution_count": 14,
   "metadata": {
    "id": "hU61ISKlqMTV"
   },
   "outputs": [],
   "source": [
    "start_time_block11 = time.time()\n",
    "def draw_movies_heatmap(most_rated_movies_users_selection, axis_labels=True):\n",
    "\n",
    "    # Reverse to match the order of the printed dataframe\n",
    "    #most_rated_movies_users_selection = most_rated_movies_users_selection.iloc[::-1]\n",
    "\n",
    "    fig = plt.figure(figsize=(15,4))\n",
    "    ax = plt.gca()\n",
    "\n",
    "    # Draw heatmap\n",
    "    heatmap = ax.imshow(most_rated_movies_users_selection,  interpolation='nearest', vmin=0, vmax=5, aspect='auto')\n",
    "\n",
    "    if axis_labels:\n",
    "        ax.set_yticks(np.arange(most_rated_movies_users_selection.shape[0]) , minor=False)\n",
    "        ax.set_xticks(np.arange(most_rated_movies_users_selection.shape[1]) , minor=False)\n",
    "        ax.invert_yaxis()\n",
    "        ax.xaxis.tick_top()\n",
    "        labels = most_rated_movies_users_selection.columns.str[:40]\n",
    "        ax.set_xticklabels(labels, minor=False)\n",
    "        ax.set_yticklabels(most_rated_movies_users_selection.index, minor=False)\n",
    "        plt.setp(ax.get_xticklabels(), rotation=90)\n",
    "    else:\n",
    "        ax.get_xaxis().set_visible(False)\n",
    "        ax.get_yaxis().set_visible(False)\n",
    "\n",
    "    ax.grid(False)\n",
    "    ax.set_ylabel('User id')\n",
    "\n",
    "    # Separate heatmap from color bar\n",
    "    divider = make_axes_locatable(ax)\n",
    "    cax = divider.append_axes(\"right\", size=\"5%\", pad=0.05)\n",
    "\n",
    "    # Color bar\n",
    "    cbar = fig.colorbar(heatmap, ticks=[5, 4, 3, 2, 1, 0], cax=cax)\n",
    "    cbar.ax.set_yticklabels(['5 stars', '4 stars','3 stars','2 stars','1 stars','0 stars'])\n",
    "\n",
    "\n",
    "\n",
    "    plt.show()\n",
    "end_time_block11 = time.time()\n",
    "runtime_block11 = calculate_runtime(start_time_block11, end_time_block11)\n",
    "runtimes.append(runtime_block11)"
   ]
  },
  {
   "cell_type": "code",
   "execution_count": 15,
   "metadata": {
    "id": "yvPZKARPqQiz",
    "scrolled": true
   },
   "outputs": [
    {
     "data": {
      "image/png": "[encoded data removed]",
      "text/plain": [
       "<Figure size 1500x400 with 2 Axes>"
      ]
     },
     "metadata": {},
     "output_type": "display_data"
    }
   ],
   "source": [
    "start_time_block12 = time.time()\n",
    "draw_movies_heatmap(user_genre_ratings_selection)\n",
    "end_time_block12 = time.time()\n",
    "runtime_block12 = calculate_runtime(start_time_block12, end_time_block12)\n",
    "runtimes.append(runtime_block12)"
   ]
  },
  {
   "cell_type": "code",
   "execution_count": 16,
   "metadata": {},
   "outputs": [],
   "source": [
    "start_time_block13 = time.time()\n",
    "# Assuming you have a Pandas DataFrame called 'pandas_df'\n",
    "# Convert the Pandas DataFrame to a PySpark DataFrame\n",
    "spark_df = genre_ratings\n",
    "\n",
    "\n",
    "# Select the relevant columns for clustering\n",
    "feature_columns = ['user_id','Sci-Fi', 'Musical', 'War', \"Children's\", 'Adventure', 'Crime', 'Animation', 'Action', 'Horror', 'Documentary', 'Film-Noir', 'Western', 'Fantasy', 'Romance', 'Mystery', 'Comedy', 'Thriller', 'Drama']\n",
    "\n",
    "spark_df = spark_df.select(*feature_columns)\n",
    "\n",
    "# Assemble the feature columns into a single vector column\n",
    "assembler = VectorAssembler(inputCols=feature_columns, outputCol=\"features\")\n",
    "spark_df = assembler.transform(spark_df)\n",
    "end_time_block13 = time.time()\n",
    "runtime_block13 = calculate_runtime(start_time_block13, end_time_block13)\n",
    "runtimes.append(runtime_block13)"
   ]
  },
  {
   "cell_type": "code",
   "execution_count": 17,
   "metadata": {
    "scrolled": true
   },
   "outputs": [
    {
     "name": "stderr",
     "output_type": "stream",
     "text": [
      "23/12/30 21:57:24 WARN package: Truncated the string representation of a plan since it was too large. This behavior can be adjusted by setting 'spark.sql.debug.maxToStringFields'.\n",
      "[Stage 769:=========>                                               (1 + 5) / 6]\r"
     ]
    },
    {
     "name": "stdout",
     "output_type": "stream",
     "text": [
      "+-------+------+-------+----+----------+---------+-----+---------+------+------+-----------+---------+-------+-------+-------+-------+------+--------+-----+--------------------+\n",
      "|user_id|Sci-Fi|Musical| War|Children's|Adventure|Crime|Animation|Action|Horror|Documentary|Film-Noir|Western|Fantasy|Romance|Mystery|Comedy|Thriller|Drama|            features|\n",
      "+-------+------+-------+----+----------+---------+-----+---------+------+------+-----------+---------+-------+-------+-------+-------+------+--------+-----+--------------------+\n",
      "|      1|  4.33|   4.29| 5.0|      4.21|      4.0|  4.0|     4.06|   4.2|   0.0|        0.0|      0.0|    0.0|    4.0|   3.67|    0.0|  4.08|    3.67| 4.43|[1.0,4.33,4.29,5....|\n",
      "|      2|  3.59|    0.0|3.73|       0.0|     3.74| 3.58|      0.0|   3.5|   3.0|        0.0|      4.0|   4.33|    3.0|   3.71|   3.33|  3.56|    3.48|  3.9|[2.0,3.59,0.0,3.7...|\n",
      "+-------+------+-------+----+----------+---------+-----+---------+------+------+-----------+---------+-------+-------+-------+-------+------+--------+-----+--------------------+\n",
      "only showing top 2 rows\n",
      "\n"
     ]
    },
    {
     "name": "stderr",
     "output_type": "stream",
     "text": [
      "\r",
      "                                                                                \r"
     ]
    }
   ],
   "source": [
    "start_time_block14 = time.time()\n",
    "spark_df.show(2)\n",
    "end_time_block14 = time.time()\n",
    "runtime_block14 = calculate_runtime(start_time_block14, end_time_block14)\n",
    "runtimes.append(runtime_block14)"
   ]
  },
  {
   "cell_type": "markdown",
   "metadata": {
    "id": "DxUcrV0H9w_o"
   },
   "source": [
    "#elbow#"
   ]
  },
  {
   "cell_type": "code",
   "execution_count": 18,
   "metadata": {},
   "outputs": [
    {
     "name": "stderr",
     "output_type": "stream",
     "text": [
      "23/12/30 21:58:11 WARN InstanceBuilder: Failed to load implementation from:dev.ludovic.netlib.blas.VectorBLAS\n",
      "                                                                                \r"
     ]
    },
    {
     "data": {
      "image/png": "[encoded data removed]",
      "text/plain": [
       "<Figure size 640x480 with 1 Axes>"
      ]
     },
     "metadata": {},
     "output_type": "display_data"
    }
   ],
   "source": [
    "start_time_block15 = time.time()\n",
    "# Calculate the Within Set Sum of Squared Errors (WSSSE) for different values of k\n",
    "k_values = range(2, 11)  # Range of k values to try\n",
    "wssse = np.zeros(len(k_values))\n",
    "\n",
    "for i, k in enumerate(k_values):\n",
    "    kmeans = KMeans(k=k, seed=42)\n",
    "    model = kmeans.fit(spark_df)\n",
    "    wssse[i]=model.summary.trainingCost\n",
    "\n",
    "# Plot the WSSSE values against the number of clusters (k)\n",
    "plt.plot(k_values, wssse, 'o-')\n",
    "plt.xlabel('Number of Clusters (k)')\n",
    "plt.ylabel('Within Set Sum of Squared Errors (WSSSE)')\n",
    "plt.title('Elbow Method')\n",
    "plt.show()\n",
    "end_time_block15 = time.time()\n",
    "runtime_block15 = calculate_runtime(start_time_block15, end_time_block15)\n",
    "runtimes.append(runtime_block15)\n"
   ]
  },
  {
   "cell_type": "markdown",
   "metadata": {
    "id": "iNXa43F4hkVP"
   },
   "source": [
    "#k-menas ++ #"
   ]
  },
  {
   "cell_type": "code",
   "execution_count": 19,
   "metadata": {},
   "outputs": [
    {
     "name": "stderr",
     "output_type": "stream",
     "text": [
      "[Stage 22107:====================================>                  (4 + 2) / 6]\r"
     ]
    },
    {
     "name": "stdout",
     "output_type": "stream",
     "text": [
      "+-------+------+-------+----+----------+---------+-----+---------+------+------+-----------+---------+-------+-------+-------+-------+------+--------+-----+--------------------+----------+\n",
      "|user_id|Sci-Fi|Musical| War|Children's|Adventure|Crime|Animation|Action|Horror|Documentary|Film-Noir|Western|Fantasy|Romance|Mystery|Comedy|Thriller|Drama|            features|prediction|\n",
      "+-------+------+-------+----+----------+---------+-----+---------+------+------+-----------+---------+-------+-------+-------+-------+------+--------+-----+--------------------+----------+\n",
      "|      1|  4.33|   4.29| 5.0|      4.21|      4.0|  4.0|     4.06|   4.2|   0.0|        0.0|      0.0|    0.0|    4.0|   3.67|    0.0|  4.08|    3.67| 4.43|[1.0,4.33,4.29,5....|        35|\n",
      "|      2|  3.59|    0.0|3.73|       0.0|     3.74| 3.58|      0.0|   3.5|   3.0|        0.0|      4.0|   4.33|    3.0|   3.71|   3.33|  3.56|    3.48|  3.9|[2.0,3.59,0.0,3.7...|        35|\n",
      "+-------+------+-------+----+----------+---------+-----+---------+------+------+-----------+---------+-------+-------+-------+-------+------+--------+-----+--------------------+----------+\n",
      "only showing top 2 rows\n",
      "\n"
     ]
    },
    {
     "name": "stderr",
     "output_type": "stream",
     "text": [
      "\r",
      "                                                                                \r"
     ]
    }
   ],
   "source": [
    "start_time_block16 = time.time()\n",
    "kmeans = KMeans().setK(150).setSeed(42).setInitMode(\"k-means||\").setFeaturesCol(\"features\")\n",
    "model = kmeans.fit(spark_df)\n",
    "\n",
    "# Predict the cluster for each data point\n",
    "predictions = model.transform(spark_df)\n",
    "\n",
    "# Extract the cluster assignment for each data point\n",
    "pred2 = predictions.select(\"prediction\").rdd.flatMap(lambda x: x).collect()\n",
    "predictions.show(2)\n",
    "end_time_block16 = time.time()\n",
    "runtime_block16 = calculate_runtime(start_time_block16, end_time_block16)\n",
    "runtimes.append(runtime_block16)"
   ]
  },
  {
   "cell_type": "markdown",
   "metadata": {
    "id": "wrGfWTILhsQd"
   },
   "source": [
    "#Random#"
   ]
  },
  {
   "cell_type": "code",
   "execution_count": 20,
   "metadata": {
    "id": "mmLKlwtMhro0"
   },
   "outputs": [
    {
     "name": "stderr",
     "output_type": "stream",
     "text": [
      "[Stage 24729:>                                                      (0 + 6) / 6]\r"
     ]
    },
    {
     "name": "stdout",
     "output_type": "stream",
     "text": [
      "+-------+------+-------+----+----------+---------+-----+---------+------+------+-----------+---------+-------+-------+-------+-------+------+--------+-----+--------------------+----------+\n",
      "|user_id|Sci-Fi|Musical| War|Children's|Adventure|Crime|Animation|Action|Horror|Documentary|Film-Noir|Western|Fantasy|Romance|Mystery|Comedy|Thriller|Drama|            features|prediction|\n",
      "+-------+------+-------+----+----------+---------+-----+---------+------+------+-----------+---------+-------+-------+-------+-------+------+--------+-----+--------------------+----------+\n",
      "|      1|  4.33|   4.29| 5.0|      4.21|      4.0|  4.0|     4.06|   4.2|   0.0|        0.0|      0.0|    0.0|    4.0|   3.67|    0.0|  4.08|    3.67| 4.43|[1.0,4.33,4.29,5....|       137|\n",
      "|      2|  3.59|    0.0|3.73|       0.0|     3.74| 3.58|      0.0|   3.5|   3.0|        0.0|      4.0|   4.33|    3.0|   3.71|   3.33|  3.56|    3.48|  3.9|[2.0,3.59,0.0,3.7...|       137|\n",
      "+-------+------+-------+----+----------+---------+-----+---------+------+------+-----------+---------+-------+-------+-------+-------+------+--------+-----+--------------------+----------+\n",
      "only showing top 2 rows\n",
      "\n"
     ]
    },
    {
     "name": "stderr",
     "output_type": "stream",
     "text": [
      "\r",
      "                                                                                \r"
     ]
    }
   ],
   "source": [
    "start_time_block17 = time.time()\n",
    "kmeans = KMeans().setK(150).setSeed(42).setInitMode(\"random\").setFeaturesCol(\"features\")\n",
    "model = kmeans.fit(spark_df)\n",
    "\n",
    "# Predict the cluster for each data point\n",
    "predictions2 = model.transform(spark_df)\n",
    "\n",
    "# Extract the cluster assignment for each data point\n",
    "pred2 = predictions2.select(\"prediction\").rdd.flatMap(lambda x: x).collect()\n",
    "predictions2.show(2)\n",
    "end_time_block17 = time.time()\n",
    "runtime_block17 = calculate_runtime(start_time_block17, end_time_block17)\n",
    "runtimes.append(runtime_block17)"
   ]
  },
  {
   "cell_type": "markdown",
   "metadata": {
    "id": "6ygB2bD5lR4f"
   },
   "source": [
    "#silhouette_score#\n",
    "###higher value of silhouette score incdicates better clustering###"
   ]
  },
  {
   "cell_type": "code",
   "execution_count": 21,
   "metadata": {
    "id": "I-y2mgUGlVlX"
   },
   "outputs": [
    {
     "name": "stderr",
     "output_type": "stream",
     "text": [
      "                                                                                \r"
     ]
    },
    {
     "name": "stdout",
     "output_type": "stream",
     "text": [
      "Silhouette Score-k-means++:  0.6330362852377179\n"
     ]
    },
    {
     "name": "stderr",
     "output_type": "stream",
     "text": [
      "[Stage 26203:>                                                      (0 + 6) / 6]\r"
     ]
    },
    {
     "name": "stdout",
     "output_type": "stream",
     "text": [
      "Silhouette Score-Random:  0.631999167402936\n"
     ]
    },
    {
     "name": "stderr",
     "output_type": "stream",
     "text": [
      "\r",
      "                                                                                \r"
     ]
    }
   ],
   "source": [
    "start_time_block18 = time.time()\n",
    "evaluator = ClusteringEvaluator()\n",
    "\n",
    "# Calculate the silhouette score\n",
    "silhouette_score = evaluator.evaluate(predictions)\n",
    "\n",
    "print(\"Silhouette Score-k-means++: \", silhouette_score)\n",
    "silhouette_score = evaluator.evaluate(predictions2)\n",
    "\n",
    "print(\"Silhouette Score-Random: \", silhouette_score)\n",
    "end_time_block18 = time.time()\n",
    "runtime_block18 = calculate_runtime(start_time_block18, end_time_block18)\n",
    "runtimes.append(runtime_block18)"
   ]
  },
  {
   "cell_type": "markdown",
   "metadata": {
    "id": "dZu6IMxJ7LfR"
   },
   "source": [
    "#prediction#"
   ]
  },
  {
   "cell_type": "code",
   "execution_count": 22,
   "metadata": {},
   "outputs": [
    {
     "name": "stderr",
     "output_type": "stream",
     "text": [
      "                                                                                \r"
     ]
    }
   ],
   "source": [
    "start_time_block19 = time.time()\n",
    "certain_user_id=2\n",
    "certain_user_cluster = predictions.filter(col('user_id') == certain_user_id).select('prediction').first()[0]\n",
    "end_time_block19 = time.time()\n",
    "runtime_block19 = calculate_runtime(start_time_block19, end_time_block19)\n",
    "runtimes.append(runtime_block19)"
   ]
  },
  {
   "cell_type": "code",
   "execution_count": 23,
   "metadata": {},
   "outputs": [],
   "source": [
    "start_time_block20 = time.time()\n",
    "# Step 2: Filter users in the same cluster\n",
    "same_cluster_users = predictions.filter(col('prediction') == certain_user_cluster)\n",
    "end_time_block20 = time.time()\n",
    "runtime_block20 = calculate_runtime(start_time_block20, end_time_block20)\n",
    "runtimes.append(runtime_block20)"
   ]
  },
  {
   "cell_type": "code",
   "execution_count": 24,
   "metadata": {},
   "outputs": [
    {
     "name": "stderr",
     "output_type": "stream",
     "text": [
      "[Stage 26957:=============================================>         (5 + 1) / 6]\r"
     ]
    },
    {
     "name": "stdout",
     "output_type": "stream",
     "text": [
      "+-------+------+-------+----+----------+---------+-----+---------+------+------+-----------+---------+-------+-------+-------+-------+------+--------+-----+--------------------+----------+\n",
      "|user_id|Sci-Fi|Musical| War|Children's|Adventure|Crime|Animation|Action|Horror|Documentary|Film-Noir|Western|Fantasy|Romance|Mystery|Comedy|Thriller|Drama|            features|prediction|\n",
      "+-------+------+-------+----+----------+---------+-----+---------+------+------+-----------+---------+-------+-------+-------+-------+------+--------+-----+--------------------+----------+\n",
      "|      1|  4.33|   4.29| 5.0|      4.21|      4.0|  4.0|     4.06|   4.2|   0.0|        0.0|      0.0|    0.0|    4.0|   3.67|    0.0|  4.08|    3.67| 4.43|[1.0,4.33,4.29,5....|        35|\n",
      "|      2|  3.59|    0.0|3.73|       0.0|     3.74| 3.58|      0.0|   3.5|   3.0|        0.0|      4.0|   4.33|    3.0|   3.71|   3.33|  3.56|    3.48|  3.9|[2.0,3.59,0.0,3.7...|        35|\n",
      "|      3|  3.83|    4.0| 4.0|       4.0|      4.0|  0.0|      4.0|  3.96|  2.67|        0.0|      0.0|   4.67|    4.5|    3.8|    3.0|  3.77|     3.8|  4.0|[3.0,3.83,4.0,4.0...|        35|\n",
      "|      4|  3.56|    0.0|3.33|       4.0|     3.83|  5.0|      0.0|  4.16|  4.33|        0.0|      0.0|    4.5|    4.5|    4.0|    0.0|   0.0|     3.5| 4.17|[4.0,3.56,0.0,3.3...|        35|\n",
      "|      5|  3.07|   3.33| 3.5|      3.83|      3.0| 3.29|      4.0|  2.61|   2.8|       3.67|      4.0|    4.0|    0.0|    3.1|   3.13|  3.41|    2.85|  3.1|[5.0,3.07,3.33,3....|        35|\n",
      "+-------+------+-------+----+----------+---------+-----+---------+------+------+-----------+---------+-------+-------+-------+-------+------+--------+-----+--------------------+----------+\n",
      "only showing top 5 rows\n",
      "\n"
     ]
    },
    {
     "name": "stderr",
     "output_type": "stream",
     "text": [
      "\r",
      "                                                                                \r"
     ]
    }
   ],
   "source": [
    "start_time_block21 = time.time()\n",
    "same_cluster_users.show(5)\n",
    "end_time_block21 = time.time()\n",
    "runtime_block21 = calculate_runtime(start_time_block21, end_time_block21)\n",
    "runtimes.append(runtime_block21)"
   ]
  },
  {
   "cell_type": "markdown",
   "metadata": {
    "id": "grn3JNmA_Zc3"
   },
   "source": [
    "#recomendation#"
   ]
  },
  {
   "cell_type": "markdown",
   "metadata": {
    "id": "1tGm7pDfmKbG"
   },
   "source": [
    "#silhouette score over different percentages of database#"
   ]
  },
  {
   "cell_type": "code",
   "execution_count": 25,
   "metadata": {},
   "outputs": [
    {
     "name": "stderr",
     "output_type": "stream",
     "text": [
      "                                                                                \r"
     ]
    },
    {
     "data": {
      "image/png": "[encoded data removed]",
      "text/plain": [
       "<Figure size 640x480 with 1 Axes>"
      ]
     },
     "metadata": {},
     "output_type": "display_data"
    }
   ],
   "source": [
    "start_time_block22 = time.time()\n",
    "percentages = [0.2, 0.4, 0.6, 0.8, 1.0]\n",
    "silhouette_scores = []\n",
    "\n",
    "for percentage in percentages:\n",
    "    # Calculate the number of rows based on the percentage\n",
    "    num_rows = int(genre_ratings.count() * percentage)\n",
    "    \n",
    "    # Select the required percentage of rows randomly\n",
    "    sampled_data = genre_ratings.sample(False, percentage, seed=42)\n",
    "    \n",
    "    # Assemble features into a vector\n",
    "    assembler = VectorAssembler(inputCols=sampled_data.columns, outputCol=\"features\")\n",
    "    assembled_data = assembler.transform(sampled_data)\n",
    "    \n",
    "    # Perform K-means clustering\n",
    "    kmeans = KMeans(k=150, seed=42)\n",
    "    model = kmeans.fit(assembled_data)\n",
    "    predictions = model.transform(assembled_data)\n",
    "    \n",
    "    # Evaluate the clustering with Silhouette score\n",
    "    evaluator = ClusteringEvaluator()\n",
    "    silhouette = evaluator.evaluate(predictions)\n",
    "    silhouette_scores.append(silhouette)\n",
    "\n",
    "# Plotting the results\n",
    "plt.plot(percentages, silhouette_scores)\n",
    "plt.title('Silhouette Score vs Dataset Percentage')\n",
    "plt.xlabel('Dataset Percentage')\n",
    "plt.ylabel('Silhouette Score')\n",
    "plt.show()\n",
    "end_time_block22 = time.time()\n",
    "runtime_block22 = calculate_runtime(start_time_block22, end_time_block22)\n",
    "runtimes.append(runtime_block22)"
   ]
  },
  {
   "cell_type": "code",
   "execution_count": 26,
   "metadata": {},
   "outputs": [
    {
     "data": {
      "text/plain": [
       "[0.4576101303100586,\n",
       " 2.6506502628326416,\n",
       " 0.28111958503723145,\n",
       " 0.153106689453125,\n",
       " 0.5980315208435059,\n",
       " 0.40383458137512207,\n",
       " 17.78537607192993,\n",
       " 12.966283082962036,\n",
       " 10.17397141456604,\n",
       " 0.00020241737365722656,\n",
       " 0.00021505355834960938,\n",
       " 0.3557300567626953,\n",
       " 0.1249544620513916,\n",
       " 9.248261451721191,\n",
       " 252.17794585227966,\n",
       " 43.427857637405396,\n",
       " 44.235294580459595,\n",
       " 35.41043543815613,\n",
       " 9.026013612747192,\n",
       " 0.007105827331542969,\n",
       " 9.040014028549194,\n",
       " 330.0859944820404]"
      ]
     },
     "execution_count": 26,
     "metadata": {},
     "output_type": "execute_result"
    }
   ],
   "source": [
    "runtimes"
   ]
  },
  {
   "cell_type": "code",
   "execution_count": 27,
   "metadata": {},
   "outputs": [
    {
     "name": "stdout",
     "output_type": "stream",
     "text": [
      "Total Runtime: 778.61 seconds\n"
     ]
    }
   ],
   "source": [
    "# Calculate the total runtime\n",
    "total_runtime = sum(runtimes)\n",
    "\n",
    "print(\"Total Runtime: {:.2f} seconds\".format(total_runtime))"
   ]
  },
  {
   "cell_type": "code",
   "execution_count": 28,
   "metadata": {},
   "outputs": [
    {
     "name": "stdout",
     "output_type": "stream",
     "text": [
      "Initial global array: []\n",
      "Updated global array: [[580.22, 12]]\n",
      "Updated global array: [[580.22, 12], [778.61, 10]]\n"
     ]
    }
   ],
   "source": [
    "# Import the global variable from file1.ipynb\n",
    "%run global_var.ipynb\n"
   ]
  },
  {
   "cell_type": "code",
   "execution_count": 9,
   "metadata": {},
   "outputs": [
    {
     "data": {
      "image/png": "[encoded data removed]",
      "text/plain": [
       "<Figure size 640x480 with 1 Axes>"
      ]
     },
     "metadata": {},
     "output_type": "display_data"
    }
   ],
   "source": [
    "data = [[580.22, 12], [778.61, 10]]\n",
    "\n",
    "# Extracting x and y values from the array\n",
    "x_values = [item[0] for item in data]\n",
    "y_values = [item[1] for item in data]\n",
    "\n",
    "# Creating a list of colors for the bars\n",
    "colors = ['blue', 'red']  # Specify the color for each bar here\n",
    "\n",
    "# Creating a bar plot\n",
    "plt.bar(range(len(x_values)), y_values, tick_label=x_values, color=colors)\n",
    "plt.xlabel('X values')\n",
    "plt.ylabel('Y values')\n",
    "plt.title('Bar Plot for the Array')\n",
    "plt.show()"
   ]
  },
  {
   "cell_type": "code",
   "execution_count": null,
   "metadata": {},
   "outputs": [],
   "source": []
  }
 ],
 "metadata": {
  "accelerator": "GPU",
  "colab": {
   "gpuType": "T4",
   "provenance": []
  },
  "kernelspec": {
   "display_name": "display_name_in_kernal_list",
   "language": "python",
   "name": "venv"
  },
  "language_info": {
   "codemirror_mode": {
    "name": "ipython",
    "version": 3
   },
   "file_extension": ".py",
   "mimetype": "text/x-python",
   "name": "python",
   "nbconvert_exporter": "python",
   "pygments_lexer": "ipython3",
   "version": "3.11.2"
  }
 },
 "nbformat": 4,
 "nbformat_minor": 4
}

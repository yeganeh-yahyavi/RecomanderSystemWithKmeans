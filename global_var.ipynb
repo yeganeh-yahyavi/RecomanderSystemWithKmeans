{
 "cells": [
  {
   "cell_type": "code",
   "execution_count": 1,
   "metadata": {},
   "outputs": [
    {
     "name": "stdout",
     "output_type": "stream",
     "text": [
      "Initial global array: []\n"
     ]
    }
   ],
   "source": [
    "# Define the global variable as an empty array\n",
    "globals()['my_global_array'] = []\n",
    "\n",
    "# Print the initial state of the global array\n",
    "print(f\"Initial global array: {my_global_array}\")"
   ]
  },
  {
   "cell_type": "code",
   "execution_count": 2,
   "metadata": {},
   "outputs": [
    {
     "name": "stdout",
     "output_type": "stream",
     "text": [
      "Updated global array: [[580.22, 12]]\n"
     ]
    }
   ],
   "source": [
    "\n",
    "# Append a new value to the global array\n",
    "my_global_array.append([580.22,12])\n",
    "\n",
    "# Print the updated state of the global array\n",
    "print(f\"Updated global array: {my_global_array}\")"
   ]
  },
  {
   "cell_type": "code",
   "execution_count": 3,
   "metadata": {},
   "outputs": [
    {
     "name": "stdout",
     "output_type": "stream",
     "text": [
      "Updated global array: [[580.22, 12], [778.61, 10]]\n"
     ]
    }
   ],
   "source": [
    "\n",
    "# Append a new value to the global array\n",
    "my_global_array.append([778.61,10])\n",
    "\n",
    "# Print the updated state of the global array\n",
    "print(f\"Updated global array: {my_global_array}\")"
   ]
  },
  {
   "cell_type": "code",
   "execution_count": null,
   "metadata": {},
   "outputs": [],
   "source": []
  }
 ],
 "metadata": {
  "kernelspec": {
   "display_name": "display_name_in_kernal_list",
   "language": "python",
   "name": "venv"
  },
  "language_info": {
   "codemirror_mode": {
    "name": "ipython",
    "version": 3
   },
   "file_extension": ".py",
   "mimetype": "text/x-python",
   "name": "python",
   "nbconvert_exporter": "python",
   "pygments_lexer": "ipython3",
   "version": "3.11.2"
  }
 },
 "nbformat": 4,
 "nbformat_minor": 2
}
